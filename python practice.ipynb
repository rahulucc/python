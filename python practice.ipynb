{
 "cells": [
  {
   "cell_type": "markdown",
   "metadata": {},
   "source": [
    "# python programming language"
   ]
  },
  {
   "cell_type": "markdown",
   "metadata": {},
   "source": [
    "# point\n",
    "    . point1\n",
    "        .point1\n",
    "    .point2\n",
    "        .point2"
   ]
  },
  {
   "cell_type": "markdown",
   "metadata": {},
   "source": [
    "<img src='1A.JPG' />"
   ]
  },
  {
   "cell_type": "markdown",
   "metadata": {},
   "source": [
    ".google link https://www.youtube.com/"
   ]
  },
  {
   "cell_type": "code",
   "execution_count": 2,
   "metadata": {},
   "outputs": [
    {
     "name": "stdout",
     "output_type": "stream",
     "text": [
      "hello rahul\n"
     ]
    }
   ],
   "source": [
    "print(\"hello rahul\")"
   ]
  },
  {
   "cell_type": "code",
   "execution_count": 3,
   "metadata": {},
   "outputs": [
    {
     "name": "stdout",
     "output_type": "stream",
     "text": [
      "hello rahul\n",
      "mahaboob nagar\n"
     ]
    }
   ],
   "source": [
    "print(\"hello rahul\")\n",
    "print(\"mahaboob nagar\")"
   ]
  },
  {
   "cell_type": "code",
   "execution_count": 10,
   "metadata": {},
   "outputs": [
    {
     "name": "stdout",
     "output_type": "stream",
     "text": [
      "hello rahul |||"
     ]
    }
   ],
   "source": [
    "print(\"hello rahul\",\"|||\", end =\"\")"
   ]
  },
  {
   "cell_type": "markdown",
   "metadata": {},
   "source": [
    "# data types and data type conversation\n",
    "    . int\n",
    "    . float\n",
    "    . string\n",
    "    . complex"
   ]
  },
  {
   "cell_type": "code",
   "execution_count": 6,
   "metadata": {},
   "outputs": [
    {
     "name": "stdout",
     "output_type": "stream",
     "text": [
      "100\n",
      "python programming\n",
      "a\n",
      "<class 'int'>\n",
      "<class 'str'>\n",
      "<class 'str'>\n"
     ]
    }
   ],
   "source": [
    "a=100\n",
    "b=\"python programming\"\n",
    "c='a'\n",
    "print(a)\n",
    "print(b)\n",
    "print(c)\n",
    "print(type(a))\n",
    "print(type(b))\n",
    "print(type(c))"
   ]
  },
  {
   "cell_type": "code",
   "execution_count": 8,
   "metadata": {},
   "outputs": [
    {
     "name": "stdout",
     "output_type": "stream",
     "text": [
      "101200000\n",
      "<class 'int'>\n"
     ]
    }
   ],
   "source": [
    "a=101200000\n",
    "print(a)\n",
    "print(type(a))"
   ]
  },
  {
   "cell_type": "code",
   "execution_count": 11,
   "metadata": {},
   "outputs": [
    {
     "name": "stdout",
     "output_type": "stream",
     "text": [
      "<class 'int'>\n",
      "<class 'float'>\n",
      "<class 'str'>\n",
      "<class 'complex'>\n"
     ]
    }
   ],
   "source": [
    "a= 100\n",
    "b=12.33\n",
    "c=\"rahul\"\n",
    "d=3+4j\n",
    "print(type(a))\n",
    "print(type(b))\n",
    "print(type(c))\n",
    "print(type(d))"
   ]
  },
  {
   "cell_type": "markdown",
   "metadata": {},
   "source": [
    "# data type conversions\n",
    "    .int() converts the input into int type\n",
    "    .float() converts the input into float type\n",
    "    .str() converts the input into string type\n",
    "    .complex() converts the input into a complex type "
   ]
  },
  {
   "cell_type": "code",
   "execution_count": 12,
   "metadata": {},
   "outputs": [
    {
     "name": "stdout",
     "output_type": "stream",
     "text": [
      "100<class 'int'>\n"
     ]
    }
   ],
   "source": [
    "a=100\n",
    "print(a,end='')\n",
    "print(type(a))#converts the input into int type \n",
    "\n"
   ]
  },
  {
   "cell_type": "code",
   "execution_count": 17,
   "metadata": {},
   "outputs": [
    {
     "name": "stdout",
     "output_type": "stream",
     "text": [
      "100<class 'str'>\n",
      "100<class 'int'>\n"
     ]
    }
   ],
   "source": [
    "a=\"100\"\n",
    "print(a,end=\"\")\n",
    "print(type(a))\n",
    "a1=int(a)\n",
    "print(a1,end=\"\")\n",
    "print(type(a1))"
   ]
  },
  {
   "cell_type": "code",
   "execution_count": 21,
   "metadata": {},
   "outputs": [
    {
     "name": "stdout",
     "output_type": "stream",
     "text": [
      "100.23 <class 'str'>\n",
      "100.23 <class 'float'>\n",
      "100 <class 'int'>\n",
      "(100+0j)<class 'complex'>\n"
     ]
    }
   ],
   "source": [
    "s1='100.23'\n",
    "print(s1,end=\" \")\n",
    "print(type(s1))# convert the input into a string type\n",
    "a1 = float(s1)\n",
    "print(a1,end=' ')\n",
    "print(type(a1))# convert the input into a float type\n",
    "a2=int(a1)\n",
    "print(a2,end=' ')\n",
    "print(type(a2))# convert the input into a float type\n",
    "a3=complex(a2)\n",
    "print(a3,end=\"\")\n",
    "print(type(a3))# convert the input into a complex type"
   ]
  },
  {
   "cell_type": "code",
   "execution_count": 16,
   "metadata": {},
   "outputs": [
    {
     "name": "stdout",
     "output_type": "stream",
     "text": [
      "4\n"
     ]
    }
   ],
   "source": [
    "# digit count of a number\n",
    "a=1234\n",
    "print(len(str(a)))"
   ]
  },
  {
   "cell_type": "markdown",
   "metadata": {},
   "source": [
    "# input()function\n",
    "    .read the input to the pyton program\n",
    "    .read the input in terms of string format"
   ]
  },
  {
   "cell_type": "code",
   "execution_count": 18,
   "metadata": {},
   "outputs": [
    {
     "name": "stdout",
     "output_type": "stream",
     "text": [
      "enter your name:rahul\n",
      "rahul <class 'str'>\n"
     ]
    }
   ],
   "source": [
    "s1 = input(\"enter your name:\")\n",
    "print(s1,type(s1))"
   ]
  },
  {
   "cell_type": "code",
   "execution_count": 19,
   "metadata": {},
   "outputs": [
    {
     "name": "stdout",
     "output_type": "stream",
     "text": [
      "enter a number:100\n",
      "100 <class 'int'>\n"
     ]
    }
   ],
   "source": [
    "s2 = int(input(\"enter a number:\"))\n",
    "print(s2,type(s2))"
   ]
  },
  {
   "cell_type": "code",
   "execution_count": 24,
   "metadata": {},
   "outputs": [
    {
     "name": "stdout",
     "output_type": "stream",
     "text": [
      "enter a number:121.23\n",
      "121.23 <class 'float'>\n"
     ]
    }
   ],
   "source": [
    "s3= float(input(\"enter a number:\"))\n",
    "print(s3,type(s3))"
   ]
  },
  {
   "cell_type": "markdown",
   "metadata": {},
   "source": [
    "# operators\n",
    "    .+\n",
    "    .-\n",
    "    .*\n",
    "    ./\n",
    "    .%\n",
    "    .**\n",
    "    .//"
   ]
  },
  {
   "cell_type": "code",
   "execution_count": 26,
   "metadata": {},
   "outputs": [
    {
     "name": "stdout",
     "output_type": "stream",
     "text": [
      "13\n",
      "7\n",
      "30\n",
      "3.3333333333333335\n",
      "1\n",
      "1000\n",
      "3\n"
     ]
    }
   ],
   "source": [
    "print(10+3)\n",
    "print(10-3)\n",
    "print(10*3)\n",
    "print(10/3)\n",
    "print(10%3)\n",
    "print(10**3)\n",
    "print(10//3)"
   ]
  },
  {
   "cell_type": "code",
   "execution_count": 27,
   "metadata": {},
   "outputs": [
    {
     "name": "stdout",
     "output_type": "stream",
     "text": [
      "8.0\n"
     ]
    }
   ],
   "source": [
    "x=1+2**3/4+5\n",
    "print(x)"
   ]
  },
  {
   "cell_type": "code",
   "execution_count": 30,
   "metadata": {},
   "outputs": [
    {
     "name": "stdout",
     "output_type": "stream",
     "text": [
      "-210.0\n"
     ]
    }
   ],
   "source": [
    "y=(10+20)-(30)*(40/5)\n",
    "print(y)"
   ]
  },
  {
   "cell_type": "markdown",
   "metadata": {},
   "source": [
    "# Logical operators\n",
    "    .and\n",
    "    .or\n",
    "    .not"
   ]
  },
  {
   "cell_type": "code",
   "execution_count": 32,
   "metadata": {},
   "outputs": [
    {
     "name": "stdout",
     "output_type": "stream",
     "text": [
      "True <class 'bool'>\n",
      "False <class 'bool'>\n"
     ]
    }
   ],
   "source": [
    "a=10\n",
    "b=(a>9) and (a>=10)\n",
    "print(b,type(b))\n",
    "b=(a>9) and (a>100)\n",
    "print(b,type(b))"
   ]
  },
  {
   "cell_type": "markdown",
   "metadata": {},
   "source": [
    "# conditional flow statements\n",
    "    . conditional statements\n",
    "        .if-else\n",
    "    .looping statements\n",
    "        .while\n",
    "        .for\n",
    "    "
   ]
  },
  {
   "cell_type": "code",
   "execution_count": 33,
   "metadata": {},
   "outputs": [
    {
     "name": "stdout",
     "output_type": "stream",
     "text": [
      "enter a number:12\n",
      "even\n"
     ]
    }
   ],
   "source": [
    "# read a number as input\n",
    "# print the output as even or odd\n",
    "a1 = int(input(\"enter a number:\"))\n",
    "if a1%2==0:\n",
    "    print(\"even\")\n",
    "else:\n",
    "    print(\"odd\")"
   ]
  },
  {
   "cell_type": "code",
   "execution_count": 39,
   "metadata": {},
   "outputs": [
    {
     "name": "stdout",
     "output_type": "stream",
     "text": [
      "enter a num:23\n",
      "positive num:\n"
     ]
    }
   ],
   "source": [
    "# read a number as input\n",
    "# print the output as zero,positive number,negative number\n",
    "a2= int(input(\"enter a num:\"))\n",
    "if a2==0:\n",
    "    print(\"zero\")\n",
    "elif a2>0:\n",
    "    print(\"positive num:\")\n",
    "elif a2<0:\n",
    "    print(\"negative num:\")"
   ]
  },
  {
   "cell_type": "code",
   "execution_count": null,
   "metadata": {},
   "outputs": [],
   "source": []
  }
 ],
 "metadata": {
  "kernelspec": {
   "display_name": "Python 3",
   "language": "python",
   "name": "python3"
  },
  "language_info": {
   "codemirror_mode": {
    "name": "ipython",
    "version": 3
   },
   "file_extension": ".py",
   "mimetype": "text/x-python",
   "name": "python",
   "nbconvert_exporter": "python",
   "pygments_lexer": "ipython3",
   "version": "3.6.5"
  }
 },
 "nbformat": 4,
 "nbformat_minor": 2
}
